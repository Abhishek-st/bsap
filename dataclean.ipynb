{
  "nbformat": 4,
  "nbformat_minor": 0,
  "metadata": {
    "colab": {
      "name": "bsap.ipynb",
      "provenance": []
    },
    "kernelspec": {
      "name": "python3",
      "display_name": "Python 3"
    },
    "language_info": {
      "name": "python"
    }
  },
  "cells": [
    {
      "cell_type": "code",
      "metadata": {
        "id": "WKr9er1a2EJ6"
      },
      "source": [
        "import pandas as pd"
      ],
      "execution_count": null,
      "outputs": []
    },
    {
      "cell_type": "code",
      "metadata": {
        "id": "jLPhbijK2Kif"
      },
      "source": [
        "data = pd.read_csv('/content/greenhouse_gas_inventory_data_data.csv')"
      ],
      "execution_count": null,
      "outputs": []
    },
    {
      "cell_type": "code",
      "metadata": {
        "colab": {
          "base_uri": "https://localhost:8080/",
          "height": 206
        },
        "id": "DpT_X5TA2R9T",
        "outputId": "3af7c560-d73d-4e40-9dea-12851b0756a5"
      },
      "source": [
        "data.head()"
      ],
      "execution_count": null,
      "outputs": [
        {
          "output_type": "execute_result",
          "data": {
            "text/html": [
              "<div>\n",
              "<style scoped>\n",
              "    .dataframe tbody tr th:only-of-type {\n",
              "        vertical-align: middle;\n",
              "    }\n",
              "\n",
              "    .dataframe tbody tr th {\n",
              "        vertical-align: top;\n",
              "    }\n",
              "\n",
              "    .dataframe thead th {\n",
              "        text-align: right;\n",
              "    }\n",
              "</style>\n",
              "<table border=\"1\" class=\"dataframe\">\n",
              "  <thead>\n",
              "    <tr style=\"text-align: right;\">\n",
              "      <th></th>\n",
              "      <th>country_or_area</th>\n",
              "      <th>year</th>\n",
              "      <th>value</th>\n",
              "      <th>category</th>\n",
              "    </tr>\n",
              "  </thead>\n",
              "  <tbody>\n",
              "    <tr>\n",
              "      <th>0</th>\n",
              "      <td>Australia</td>\n",
              "      <td>2014</td>\n",
              "      <td>393126.946994</td>\n",
              "      <td>carbon_dioxide_co2_emissions_without_land_use_...</td>\n",
              "    </tr>\n",
              "    <tr>\n",
              "      <th>1</th>\n",
              "      <td>Australia</td>\n",
              "      <td>2013</td>\n",
              "      <td>396913.936530</td>\n",
              "      <td>carbon_dioxide_co2_emissions_without_land_use_...</td>\n",
              "    </tr>\n",
              "    <tr>\n",
              "      <th>2</th>\n",
              "      <td>Australia</td>\n",
              "      <td>2012</td>\n",
              "      <td>406462.847704</td>\n",
              "      <td>carbon_dioxide_co2_emissions_without_land_use_...</td>\n",
              "    </tr>\n",
              "    <tr>\n",
              "      <th>3</th>\n",
              "      <td>Australia</td>\n",
              "      <td>2011</td>\n",
              "      <td>403705.528314</td>\n",
              "      <td>carbon_dioxide_co2_emissions_without_land_use_...</td>\n",
              "    </tr>\n",
              "    <tr>\n",
              "      <th>4</th>\n",
              "      <td>Australia</td>\n",
              "      <td>2010</td>\n",
              "      <td>406200.993184</td>\n",
              "      <td>carbon_dioxide_co2_emissions_without_land_use_...</td>\n",
              "    </tr>\n",
              "  </tbody>\n",
              "</table>\n",
              "</div>"
            ],
            "text/plain": [
              "  country_or_area  ...                                           category\n",
              "0       Australia  ...  carbon_dioxide_co2_emissions_without_land_use_...\n",
              "1       Australia  ...  carbon_dioxide_co2_emissions_without_land_use_...\n",
              "2       Australia  ...  carbon_dioxide_co2_emissions_without_land_use_...\n",
              "3       Australia  ...  carbon_dioxide_co2_emissions_without_land_use_...\n",
              "4       Australia  ...  carbon_dioxide_co2_emissions_without_land_use_...\n",
              "\n",
              "[5 rows x 4 columns]"
            ]
          },
          "metadata": {
            "tags": []
          },
          "execution_count": 3
        }
      ]
    },
    {
      "cell_type": "code",
      "metadata": {
        "colab": {
          "base_uri": "https://localhost:8080/"
        },
        "id": "V4b-pVoT2U0X",
        "outputId": "58cadcdb-2de0-4a8f-b71e-9e7b37e83120"
      },
      "source": [
        "set(data['category'].values)"
      ],
      "execution_count": null,
      "outputs": [
        {
          "output_type": "execute_result",
          "data": {
            "text/plain": [
              "{'carbon_dioxide_co2_emissions_without_land_use_land_use_change_and_forestry_lulucf_in_kilotonne_co2_equivalent',\n",
              " 'greenhouse_gas_ghgs_emissions_including_indirect_co2_without_lulucf_in_kilotonne_co2_equivalent',\n",
              " 'greenhouse_gas_ghgs_emissions_without_land_use_land_use_change_and_forestry_lulucf_in_kilotonne_co2_equivalent',\n",
              " 'hydrofluorocarbons_hfcs_emissions_in_kilotonne_co2_equivalent',\n",
              " 'methane_ch4_emissions_without_land_use_land_use_change_and_forestry_lulucf_in_kilotonne_co2_equivalent',\n",
              " 'nitrogen_trifluoride_nf3_emissions_in_kilotonne_co2_equivalent',\n",
              " 'nitrous_oxide_n2o_emissions_without_land_use_land_use_change_and_forestry_lulucf_in_kilotonne_co2_equivalent',\n",
              " 'perfluorocarbons_pfcs_emissions_in_kilotonne_co2_equivalent',\n",
              " 'sulphur_hexafluoride_sf6_emissions_in_kilotonne_co2_equivalent',\n",
              " 'unspecified_mix_of_hydrofluorocarbons_hfcs_and_perfluorocarbons_pfcs_emissions_in_kilotonne_co2_equivalent'}"
            ]
          },
          "metadata": {
            "tags": []
          },
          "execution_count": 7
        }
      ]
    },
    {
      "cell_type": "code",
      "metadata": {
        "id": "zHJEpf622Ter"
      },
      "source": [
        "map = {'carbon_dioxide_co2_emissions_without_land_use_land_use_change_and_forestry_lulucf_in_kilotonne_co2_equivalent':'co2',\n",
        " 'greenhouse_gas_ghgs_emissions_including_indirect_co2_without_lulucf_in_kilotonne_co2_equivalent':'ghgs_co2',\n",
        " 'greenhouse_gas_ghgs_emissions_without_land_use_land_use_change_and_forestry_lulucf_in_kilotonne_co2_equivalent':'ghgs',\n",
        " 'hydrofluorocarbons_hfcs_emissions_in_kilotonne_co2_equivalent':'hfcs',\n",
        " 'methane_ch4_emissions_without_land_use_land_use_change_and_forestry_lulucf_in_kilotonne_co2_equivalent':'ch4',\n",
        " 'nitrogen_trifluoride_nf3_emissions_in_kilotonne_co2_equivalent':'nf3',\n",
        " 'nitrous_oxide_n2o_emissions_without_land_use_land_use_change_and_forestry_lulucf_in_kilotonne_co2_equivalent':'n2o',\n",
        " 'perfluorocarbons_pfcs_emissions_in_kilotonne_co2_equivalent':'pfcs',\n",
        " 'sulphur_hexafluoride_sf6_emissions_in_kilotonne_co2_equivalent':'sf6',\n",
        " 'unspecified_mix_of_hydrofluorocarbons_hfcs_and_perfluorocarbons_pfcs_emissions_in_kilotonne_co2_equivalent':'hfcs_pfcs'}"
      ],
      "execution_count": null,
      "outputs": []
    },
    {
      "cell_type": "code",
      "metadata": {
        "id": "40qCTCe034yd"
      },
      "source": [
        "data['category'] =data['category'].map(map)"
      ],
      "execution_count": null,
      "outputs": []
    },
    {
      "cell_type": "code",
      "metadata": {
        "colab": {
          "base_uri": "https://localhost:8080/",
          "height": 206
        },
        "id": "1cJDu9MQ4FDR",
        "outputId": "cc325336-b25e-44b7-f3bf-d20a2f769f8c"
      },
      "source": [
        "data.head()"
      ],
      "execution_count": null,
      "outputs": [
        {
          "output_type": "execute_result",
          "data": {
            "text/html": [
              "<div>\n",
              "<style scoped>\n",
              "    .dataframe tbody tr th:only-of-type {\n",
              "        vertical-align: middle;\n",
              "    }\n",
              "\n",
              "    .dataframe tbody tr th {\n",
              "        vertical-align: top;\n",
              "    }\n",
              "\n",
              "    .dataframe thead th {\n",
              "        text-align: right;\n",
              "    }\n",
              "</style>\n",
              "<table border=\"1\" class=\"dataframe\">\n",
              "  <thead>\n",
              "    <tr style=\"text-align: right;\">\n",
              "      <th></th>\n",
              "      <th>country_or_area</th>\n",
              "      <th>year</th>\n",
              "      <th>value</th>\n",
              "      <th>category</th>\n",
              "    </tr>\n",
              "  </thead>\n",
              "  <tbody>\n",
              "    <tr>\n",
              "      <th>0</th>\n",
              "      <td>Australia</td>\n",
              "      <td>2014</td>\n",
              "      <td>393126.946994</td>\n",
              "      <td>co2</td>\n",
              "    </tr>\n",
              "    <tr>\n",
              "      <th>1</th>\n",
              "      <td>Australia</td>\n",
              "      <td>2013</td>\n",
              "      <td>396913.936530</td>\n",
              "      <td>co2</td>\n",
              "    </tr>\n",
              "    <tr>\n",
              "      <th>2</th>\n",
              "      <td>Australia</td>\n",
              "      <td>2012</td>\n",
              "      <td>406462.847704</td>\n",
              "      <td>co2</td>\n",
              "    </tr>\n",
              "    <tr>\n",
              "      <th>3</th>\n",
              "      <td>Australia</td>\n",
              "      <td>2011</td>\n",
              "      <td>403705.528314</td>\n",
              "      <td>co2</td>\n",
              "    </tr>\n",
              "    <tr>\n",
              "      <th>4</th>\n",
              "      <td>Australia</td>\n",
              "      <td>2010</td>\n",
              "      <td>406200.993184</td>\n",
              "      <td>co2</td>\n",
              "    </tr>\n",
              "  </tbody>\n",
              "</table>\n",
              "</div>"
            ],
            "text/plain": [
              "  country_or_area  year          value category\n",
              "0       Australia  2014  393126.946994      co2\n",
              "1       Australia  2013  396913.936530      co2\n",
              "2       Australia  2012  406462.847704      co2\n",
              "3       Australia  2011  403705.528314      co2\n",
              "4       Australia  2010  406200.993184      co2"
            ]
          },
          "metadata": {
            "tags": []
          },
          "execution_count": 10
        }
      ]
    },
    {
      "cell_type": "code",
      "metadata": {
        "id": "5aqnoG9Z4GZv"
      },
      "source": [
        "data.to_csv('udata.csv')"
      ],
      "execution_count": null,
      "outputs": []
    },
    {
      "cell_type": "code",
      "metadata": {
        "id": "Txie2Vl94NMy"
      },
      "source": [
        ""
      ],
      "execution_count": null,
      "outputs": []
    }
  ]
}